{
 "cells": [
  {
   "cell_type": "code",
   "id": "initial_id",
   "metadata": {
    "collapsed": true,
    "ExecuteTime": {
     "end_time": "2025-10-13T13:19:52.179928Z",
     "start_time": "2025-10-13T13:19:52.169518Z"
    }
   },
   "source": [
    "import os\n",
    "import sys\n",
    "import matplotlib.pyplot as plt\n",
    "import seaborn as sns\n",
    "import pandas as pd\n",
    "%matplotlib inline\n",
    "sns.set_theme()"
   ],
   "outputs": [],
   "execution_count": 1
  },
  {
   "metadata": {
    "ExecuteTime": {
     "end_time": "2025-10-13T13:19:52.185598Z",
     "start_time": "2025-10-13T13:19:52.184212Z"
    }
   },
   "cell_type": "code",
   "source": [
    "project_root = os.path.abspath(os.path.join(os.getcwd(), '..'))\n",
    "if project_root not in sys.path:\n",
    "    sys.path.append(project_root)"
   ],
   "id": "78a809fc90b2b122",
   "outputs": [],
   "execution_count": 2
  },
  {
   "metadata": {
    "ExecuteTime": {
     "end_time": "2025-10-13T13:19:52.221033Z",
     "start_time": "2025-10-13T13:19:52.190111Z"
    }
   },
   "cell_type": "code",
   "source": "from src.utils import get_config, read_file",
   "id": "de54760e3144128e",
   "outputs": [],
   "execution_count": 3
  },
  {
   "metadata": {
    "ExecuteTime": {
     "end_time": "2025-10-13T13:19:52.228639Z",
     "start_time": "2025-10-13T13:19:52.225115Z"
    }
   },
   "cell_type": "code",
   "source": [
    "config = get_config.read_yaml()\n",
    "symbols = config['data']['symbols']\n",
    "symbols"
   ],
   "id": "4437e8911e1b5878",
   "outputs": [
    {
     "data": {
      "text/plain": [
       "['ETH/USDT',\n",
       " 'BTC/USDT',\n",
       " 'BNB/USDT',\n",
       " 'SOL/USDT',\n",
       " 'ADA/USDT',\n",
       " 'LINK/USDT',\n",
       " 'XRP/USDT',\n",
       " 'LTC/USDT',\n",
       " 'XLM/USDT']"
      ]
     },
     "execution_count": 4,
     "metadata": {},
     "output_type": "execute_result"
    }
   ],
   "execution_count": 4
  },
  {
   "metadata": {
    "ExecuteTime": {
     "end_time": "2025-10-13T13:20:38.730024Z",
     "start_time": "2025-10-13T13:20:38.725609Z"
    }
   },
   "cell_type": "code",
   "source": [
    "data = read_file.read_merged_training_data()\n",
    "data"
   ],
   "id": "2f68bd89549eb52b",
   "outputs": [
    {
     "name": "stdout",
     "output_type": "stream",
     "text": [
      "Reading merged Training data: merged_training_data !\n",
      "Failed to read merged_training_data: [Errno 2] No such file or directory: '/Users/aayushsharma/Projects/Project-catRL/data/training/merged/merged_training_data.csv' !\n"
     ]
    }
   ],
   "execution_count": 8
  },
  {
   "metadata": {
    "ExecuteTime": {
     "end_time": "2025-10-13T13:19:52.252155Z",
     "start_time": "2025-10-13T13:19:52.250514Z"
    }
   },
   "cell_type": "code",
   "source": [
    "def generate_position(data):\n",
    "    for symbol in symbols:\n",
    "        symbol = symbol.split('/')[0]\n",
    "        col = ('position', symbol)\n",
    "        data[col] = 0.11\n",
    "    return data"
   ],
   "id": "e68b218125cb0a4d",
   "outputs": [],
   "execution_count": 6
  }
 ],
 "metadata": {
  "kernelspec": {
   "display_name": "Python 3",
   "language": "python",
   "name": "python3"
  },
  "language_info": {
   "codemirror_mode": {
    "name": "ipython",
    "version": 2
   },
   "file_extension": ".py",
   "mimetype": "text/x-python",
   "name": "python",
   "nbconvert_exporter": "python",
   "pygments_lexer": "ipython2",
   "version": "2.7.6"
  }
 },
 "nbformat": 4,
 "nbformat_minor": 5
}
