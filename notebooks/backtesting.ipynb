{
 "cells": [
  {
   "metadata": {},
   "cell_type": "code",
   "source": [
    "import os\n",
    "import sys\n",
    "import matplotlib.pyplot as plt\n",
    "import seaborn as sns\n",
    "import pandas as pd\n",
    "import ast\n",
    "%matplotlib inline\n",
    "sns.set_theme()"
   ],
   "id": "b06126a354b9c45a",
   "outputs": [],
   "execution_count": null
  },
  {
   "metadata": {},
   "cell_type": "code",
   "source": [
    "project_root = os.path.abspath(os.path.join(os.getcwd(), '..'))\n",
    "if project_root not in sys.path:\n",
    "    sys.path.append(project_root)"
   ],
   "id": "bc9014c5ac84b567",
   "outputs": [],
   "execution_count": null
  },
  {
   "metadata": {},
   "cell_type": "code",
   "source": [
    "from src.strategy import predict_position\n",
    "from src.update_files import update_state, update_portfolio\n",
    "from src.position_sizing import portfolio_calculator, amount_calculator\n",
    "from src.risk_management import slippage, stop_loss, take_profit\n",
    "from src.backtester import data_handler, place_order, execute_order, execute_SL_TP\n",
    "from src.utils import get_config, read_file"
   ],
   "id": "919650beae224141",
   "outputs": [],
   "execution_count": null
  },
  {
   "metadata": {},
   "cell_type": "code",
   "source": [
    "config = get_config.read_yaml()\n",
    "symbols = config['data']['symbols']\n",
    "symbols"
   ],
   "id": "5f0f58aee754f1ba",
   "outputs": [],
   "execution_count": null
  },
  {
   "metadata": {},
   "cell_type": "code",
   "source": [
    "test_data = read_file.read_merged_test_data()\n",
    "test_data"
   ],
   "id": "1fc3e490cc4f04ba",
   "outputs": [],
   "execution_count": null
  },
  {
   "metadata": {},
   "cell_type": "code",
   "source": [
    "update_state.set_state(test_data, 100000)\n",
    "state = read_file.read_state()\n",
    "state"
   ],
   "id": "4ed052784776c679",
   "outputs": [],
   "execution_count": null
  },
  {
   "metadata": {},
   "cell_type": "code",
   "source": [
    "candle = data_handler.fetch_data(test_data)\n",
    "candle"
   ],
   "id": "2e278b642657402c",
   "outputs": [],
   "execution_count": null
  },
  {
   "metadata": {},
   "cell_type": "code",
   "source": "execute_SL_TP.execute(candle)",
   "id": "98e8b5dfa3d87bf1",
   "outputs": [],
   "execution_count": null
  },
  {
   "metadata": {},
   "cell_type": "code",
   "source": [
    "candle = predict_position.predict(candle)\n",
    "candle"
   ],
   "id": "a3a938ad630564ad",
   "outputs": [],
   "execution_count": null
  },
  {
   "metadata": {},
   "cell_type": "code",
   "source": [
    "update_portfolio.set_portfolio()\n",
    "portfolio = read_file.read_portfolio()\n",
    "portfolio"
   ],
   "id": "9b834a2f84271914",
   "outputs": [],
   "execution_count": null
  },
  {
   "metadata": {},
   "cell_type": "code",
   "source": [
    "Pt = portfolio_calculator.calculate(candle)\n",
    "Pt"
   ],
   "id": "d486a3d2f143c224",
   "outputs": [],
   "execution_count": null
  },
  {
   "metadata": {},
   "cell_type": "code",
   "source": [
    "candle = slippage.get_order_price(candle, Pt)\n",
    "candle"
   ],
   "id": "3c19bd9ac65826ed",
   "outputs": [],
   "execution_count": null
  },
  {
   "metadata": {},
   "cell_type": "code",
   "source": [
    "candle = amount_calculator.calculate(candle, Pt)\n",
    "candle"
   ],
   "id": "6250ad642104132c",
   "outputs": [],
   "execution_count": null
  },
  {
   "metadata": {},
   "cell_type": "code",
   "source": [
    "candle = stop_loss.get_stop_loss(candle)\n",
    "candle"
   ],
   "id": "3d679d08841ac1a7",
   "outputs": [],
   "execution_count": null
  },
  {
   "metadata": {},
   "cell_type": "code",
   "source": [
    "candle = take_profit.get_take_profit(candle)\n",
    "candle"
   ],
   "id": "e4fcfef8b2b91818",
   "outputs": [],
   "execution_count": null
  },
  {
   "metadata": {},
   "cell_type": "code",
   "source": [
    "order = place_order.place(candle)\n",
    "order"
   ],
   "id": "ff92c57c456ff0c7",
   "outputs": [],
   "execution_count": null
  },
  {
   "metadata": {},
   "cell_type": "code",
   "source": [
    "execute_order.execute(order)\n",
    "portfolio = read_file.read_portfolio()\n",
    "portfolio"
   ],
   "id": "d5000ac09fdcf59f",
   "outputs": [],
   "execution_count": null
  },
  {
   "metadata": {},
   "cell_type": "code",
   "source": [
    "state = read_file.read_state()\n",
    "state"
   ],
   "id": "af019abc494896b1",
   "outputs": [],
   "execution_count": null
  },
  {
   "metadata": {},
   "cell_type": "code",
   "source": [
    "candle2 = data_handler.fetch_data(test_data)\n",
    "candle2"
   ],
   "id": "f29f337b3b5fa277",
   "outputs": [],
   "execution_count": null
  },
  {
   "metadata": {},
   "cell_type": "code",
   "source": [
    "# execute sltp\n",
    "execute_SL_TP.execute(candle2)"
   ],
   "id": "a954f2a09daf647",
   "outputs": [],
   "execution_count": null
  },
  {
   "metadata": {},
   "cell_type": "code",
   "source": [
    "candle2 = predict_position.predict(candle2)\n",
    "candle2"
   ],
   "id": "f596b557e6f4ca08",
   "outputs": [],
   "execution_count": null
  },
  {
   "metadata": {},
   "cell_type": "code",
   "source": [
    "Pt = portfolio_calculator.calculate(candle)\n",
    "Pt"
   ],
   "id": "dd626fe67fea2823",
   "outputs": [],
   "execution_count": null
  },
  {
   "metadata": {},
   "cell_type": "code",
   "source": [
    "candle2 = slippage.get_order_price(candle2, Pt)\n",
    "candle2"
   ],
   "id": "c8b60a7128c6a7a4",
   "outputs": [],
   "execution_count": null
  },
  {
   "metadata": {},
   "cell_type": "code",
   "source": [
    "candle2 = amount_calculator.calculate(candle2, Pt)\n",
    "candle2"
   ],
   "id": "74951dea0eff035",
   "outputs": [],
   "execution_count": null
  },
  {
   "metadata": {},
   "cell_type": "code",
   "source": [
    "candle2 = stop_loss.get_stop_loss(candle2)\n",
    "candle2 = take_profit.get_take_profit(candle2)\n",
    "candle2"
   ],
   "id": "700e380a395b8f7e",
   "outputs": [],
   "execution_count": null
  },
  {
   "metadata": {},
   "cell_type": "code",
   "source": [
    "order2 = place_order.place(candle2)\n",
    "order2"
   ],
   "id": "9b937f6763568b4d",
   "outputs": [],
   "execution_count": null
  },
  {
   "metadata": {},
   "cell_type": "code",
   "source": [
    "execute_order.execute(order2)\n",
    "portfolio = read_file.read_portfolio()\n",
    "portfolio"
   ],
   "id": "fd7eff3b9254efde",
   "outputs": [],
   "execution_count": null
  },
  {
   "metadata": {},
   "cell_type": "code",
   "source": [
    "state = read_file.read_state()\n",
    "state"
   ],
   "id": "2226aa6ab1d47c34",
   "outputs": [],
   "execution_count": null
  }
 ],
 "metadata": {
  "kernelspec": {
   "display_name": "Python 3",
   "language": "python",
   "name": "python3"
  },
  "language_info": {
   "codemirror_mode": {
    "name": "ipython",
    "version": 2
   },
   "file_extension": ".py",
   "mimetype": "text/x-python",
   "name": "python",
   "nbconvert_exporter": "python",
   "pygments_lexer": "ipython2",
   "version": "2.7.6"
  }
 },
 "nbformat": 4,
 "nbformat_minor": 5
}
