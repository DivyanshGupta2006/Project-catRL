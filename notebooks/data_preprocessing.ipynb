{
 "cells": [
  {
   "metadata": {},
   "cell_type": "code",
   "source": [
    "import os\n",
    "import sys\n",
    "import matplotlib.pyplot as plt\n",
    "import pandas as pd\n",
    "import seaborn as sns\n",
    "from sklearn.preprocessing import MinMaxScaler\n",
    "%matplotlib inline\n",
    "sns.set_theme()"
   ],
   "id": "2e3643d5867e7329",
   "outputs": [],
   "execution_count": null
  },
  {
   "metadata": {},
   "cell_type": "code",
   "source": [
    "project_root = os.path.abspath(os.path.join(os.getcwd(), '..'))\n",
    "if project_root not in sys.path:\n",
    "    sys.path.append(project_root)"
   ],
   "id": "c35286cacf2a0014",
   "outputs": [],
   "execution_count": null
  },
  {
   "metadata": {},
   "cell_type": "code",
   "source": "from src.utils import get_config, read_file",
   "id": "379423594a2bba6e",
   "outputs": [],
   "execution_count": null
  },
  {
   "metadata": {},
   "cell_type": "code",
   "source": [
    "config = get_config.read_yaml()\n",
    "symbols = config['data']['symbols']\n",
    "symbol = symbols[0]\n",
    "symbol"
   ],
   "id": "146426ff5179670d",
   "outputs": [],
   "execution_count": null
  },
  {
   "metadata": {},
   "cell_type": "code",
   "source": [
    "data = read_file.read_featured_training_data(symbol)\n",
    "data"
   ],
   "id": "ca92617dd3a5e242",
   "outputs": [],
   "execution_count": null
  },
  {
   "metadata": {},
   "cell_type": "code",
   "source": [
    "# define a function to plot various datafields\n",
    "def plot_df(df, kind=None):\n",
    "    if kind is None:\n",
    "        df.plot(figsize = (15,8), fontsize=12) # plots the graph with specified plot and font size\n",
    "    else:\n",
    "        df.plot(kind=kind, figsize = (15,8), fontsize=12, bins=100)\n",
    "    plt.legend(fontsize = 12) # shows legends\n",
    "    plt.show() # makes the plot visible"
   ],
   "id": "4d9b166a8a2a8478",
   "outputs": [],
   "execution_count": null
  },
  {
   "metadata": {},
   "cell_type": "code",
   "source": [
    "# Handling NaN values in the dataframe (WIP)\n",
    "data = data[data.index >= config['data']['begin_train_date']].copy()\n",
    "data = data.ffill()\n",
    "data"
   ],
   "id": "6579ec9506044507",
   "outputs": [],
   "execution_count": null
  },
  {
   "metadata": {},
   "cell_type": "code",
   "source": [
    "scaler = MinMaxScaler()\n",
    "scaler.fit(data)\n",
    "data_scaled = pd.DataFrame(scaler.transform(data), columns=data.columns, index=data.index)\n",
    "data_scaled\n"
   ],
   "id": "355cddc0e81982b3",
   "outputs": [],
   "execution_count": null
  },
  {
   "metadata": {},
   "cell_type": "code",
   "source": "plot_df(data_scaled['close'])",
   "id": "c7d66849f93d2a10",
   "outputs": [],
   "execution_count": null
  }
 ],
 "metadata": {},
 "nbformat": 4,
 "nbformat_minor": 5
}
