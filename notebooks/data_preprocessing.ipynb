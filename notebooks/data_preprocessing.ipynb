{
 "cells": [
  {
   "metadata": {},
   "cell_type": "code",
   "outputs": [],
   "execution_count": null,
   "source": [
    "from IPython.core.display_functions import display\n",
    "from sympy import false\n",
    "\n",
    "from src.utils import get_config, get_absolute_path, check_dir, read_file\n",
    "import pandas as pd\n",
    "from sklearn.preprocessing import MinMaxScaler\n"
   ],
   "id": "2e3643d5867e7329"
  },
  {
   "metadata": {},
   "cell_type": "code",
   "outputs": [],
   "execution_count": null,
   "source": [
    "config = get_config.read_yaml()\n",
    "symbols = config['data']['symbols']\n",
    "symbol = symbols[0]\n",
    "symbol"
   ],
   "id": "146426ff5179670d"
  },
  {
   "metadata": {},
   "cell_type": "code",
   "outputs": [],
   "execution_count": null,
   "source": [
    "data = read_file.read_featured_data(symbol)\n",
    "data"
   ],
   "id": "ca92617dd3a5e242"
  },
  {
   "metadata": {},
   "cell_type": "code",
   "outputs": [],
   "execution_count": null,
   "source": [
    "# Handling NaN values in the dataframe (WIP)\n",
    "data = data[data.index >= config['data']['begin_date']]\n",
    "data.ffill(inplace=True)\n",
    "data"
   ],
   "id": "6579ec9506044507"
  },
  {
   "metadata": {},
   "cell_type": "code",
   "outputs": [],
   "execution_count": null,
   "source": [
    "scaler = MinMaxScaler()\n",
    "data_scaled = data.copy()\n",
    "scaler.fit(data.loc[:,'open':])\n",
    "data_scaled.loc[:,'open':] = scaler.transform(data.loc[:,'open':])\n",
    "data_scaled\n"
   ],
   "id": "355cddc0e81982b3"
  }
 ],
 "metadata": {},
 "nbformat": 4,
 "nbformat_minor": 5
}
