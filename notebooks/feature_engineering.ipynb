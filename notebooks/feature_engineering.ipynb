{
 "cells": [
  {
   "cell_type": "code",
   "id": "initial_id",
   "metadata": {
    "collapsed": true
   },
   "source": [
    "import os\n",
    "import sys\n",
    "import matplotlib.pyplot as plt\n",
    "import seaborn as sns\n",
    "import pandas as pd\n",
    "import talib as ta\n",
    "%matplotlib inline\n",
    "sns.set_theme()"
   ],
   "outputs": [],
   "execution_count": null
  },
  {
   "metadata": {},
   "cell_type": "code",
   "source": [
    "project_root = os.path.abspath(os.path.join(os.getcwd(), '..'))\n",
    "if project_root not in sys.path:\n",
    "    sys.path.append(project_root)"
   ],
   "id": "dd4e342a7a35fccc",
   "outputs": [],
   "execution_count": null
  },
  {
   "metadata": {},
   "cell_type": "code",
   "source": "from src.utils import get_config, read_file",
   "id": "acd89737eb75ad2a",
   "outputs": [],
   "execution_count": null
  },
  {
   "metadata": {},
   "cell_type": "code",
   "source": [
    "config = get_config.read_yaml()\n",
    "symbols = config['data']['symbols']\n",
    "symbols"
   ],
   "id": "f8c2ac2be42c164",
   "outputs": [],
   "execution_count": null
  },
  {
   "metadata": {},
   "cell_type": "code",
   "source": [
    "symbol = symbols[0]\n",
    "symbol"
   ],
   "id": "27eba0e3e6cac919",
   "outputs": [],
   "execution_count": null
  },
  {
   "metadata": {},
   "cell_type": "code",
   "source": [
    "data = read_file.read_raw_training_data(symbol)\n",
    "data"
   ],
   "id": "b37dd3cdaacb701",
   "outputs": [],
   "execution_count": null
  },
  {
   "metadata": {},
   "cell_type": "code",
   "source": [
    "# define a function to plot various datafields\n",
    "def plot_df(df, kind=None):\n",
    "    if kind is None:\n",
    "        df.plot(figsize = (15,8), fontsize=12) # plots the graph with specified plot and font size\n",
    "    else:\n",
    "        df.plot(kind=kind, figsize = (15,8), fontsize=12, bins=100)\n",
    "    plt.legend(fontsize = 12) # shows legends\n",
    "    plt.show() # makes the plot visible"
   ],
   "id": "746c893fbc55ef5a",
   "outputs": [],
   "execution_count": null
  },
  {
   "metadata": {},
   "cell_type": "code",
   "source": [
    "data['rsi'] = ta.RSI(data['close'], timeperiod=14)\n",
    "data.head(100)"
   ],
   "id": "acb3dd1885aa21e0",
   "outputs": [],
   "execution_count": null
  },
  {
   "metadata": {},
   "cell_type": "code",
   "source": "plot_df(data['rsi'])",
   "id": "7cd1f4107dc4850e",
   "outputs": [],
   "execution_count": null
  },
  {
   "metadata": {},
   "cell_type": "code",
   "source": [
    "data['sma-50'] = ta.SMA(data['close'], timeperiod=50)\n",
    "data['sma-100'] = ta.SMA(data['close'], timeperiod=100)\n",
    "data['sma-200'] = ta.SMA(data['close'], timeperiod=200)\n",
    "data['ema-50'] = ta.EMA(data['close'], timeperiod=50)\n",
    "data['ema-100'] = ta.EMA(data['close'], timeperiod=100)\n",
    "data['ema-200'] = ta.EMA(data['close'], timeperiod=200)\n",
    "data"
   ],
   "id": "af145506a070bd7e",
   "outputs": [],
   "execution_count": null
  },
  {
   "metadata": {},
   "cell_type": "code",
   "source": "plot_df(data.loc['2022-01-01':'2022-06-30', ['sma-50', 'sma-100', 'sma-200', 'ema-50', 'ema-100', 'ema-200']])",
   "id": "c0ee5fc8c7fb259f",
   "outputs": [],
   "execution_count": null
  },
  {
   "metadata": {},
   "cell_type": "code",
   "source": [
    "data['atr'] = ta.ATR(data['high'], data['low'], data['close'], timeperiod=14)\n",
    "data['adx'] = ta.ADX(data['high'], data['low'], data['close'], timeperiod=14)\n",
    "data"
   ],
   "id": "d471ecc477bfcf3e",
   "outputs": [],
   "execution_count": null
  },
  {
   "metadata": {},
   "cell_type": "code",
   "source": "data.describe()",
   "id": "f124e8ecb3c21cc",
   "outputs": [],
   "execution_count": null
  },
  {
   "metadata": {},
   "cell_type": "code",
   "source": "data.info()",
   "id": "fdd4a265995e46ec",
   "outputs": [],
   "execution_count": null
  },
  {
   "metadata": {},
   "cell_type": "code",
   "source": "",
   "id": "da19bfd112e7edf0",
   "outputs": [],
   "execution_count": null
  }
 ],
 "metadata": {
  "kernelspec": {
   "display_name": "Python 3",
   "language": "python",
   "name": "python3"
  },
  "language_info": {
   "codemirror_mode": {
    "name": "ipython",
    "version": 2
   },
   "file_extension": ".py",
   "mimetype": "text/x-python",
   "name": "python",
   "nbconvert_exporter": "python",
   "pygments_lexer": "ipython2",
   "version": "2.7.6"
  }
 },
 "nbformat": 4,
 "nbformat_minor": 5
}
