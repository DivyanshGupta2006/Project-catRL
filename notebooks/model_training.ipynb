{
 "cells": [
  {
   "metadata": {},
   "cell_type": "code",
   "source": [
    "import os\n",
    "import sys\n",
    "import torch\n",
    "import torch.nn as nn\n",
    "import matplotlib.pyplot as plt\n",
    "from torch.distributions import Normal\n",
    "from src.strategy.buffer import Buffer\n",
    "%matplotlib inline"
   ],
   "id": "74840abded7f043f",
   "outputs": [],
   "execution_count": null
  },
  {
   "cell_type": "code",
   "id": "initial_id",
   "metadata": {
    "collapsed": true
   },
   "source": [
    "project_root = os.path.abspath(os.path.join(os.getcwd(), '..'))\n",
    "if project_root not in sys.path:\n",
    "    sys.path.append(project_root)"
   ],
   "outputs": [],
   "execution_count": null
  },
  {
   "metadata": {},
   "cell_type": "code",
   "source": [
    "from src.strategy.model import Model\n",
    "from src.strategy.agent import Agent\n",
    "from src.strategy.environment import Environment\n",
    "from src.utils import get_config, read_file\n",
    "config = get_config.read_yaml()"
   ],
   "id": "61681055213a0301",
   "outputs": [],
   "execution_count": null
  },
  {
   "metadata": {},
   "cell_type": "code",
   "source": [
    "device = torch.device(\"cuda\" if torch.cuda.is_available() else \"cpu\")\n",
    "input_dim = len(config['data']['symbols']) * config['data']['num_features']\n",
    "gamma = config['hyperparameters']['gamma']\n",
    "gae_lambda = config['hyperparameters']['gae_lambda']\n",
    "clip_epsilon = config['hyperparameters']['clip_epsilon']\n",
    "value_loss_coef = config['hyperparameters']['value_loss_coef']\n",
    "entropy_loss_coef = config['hyperparameters']['entropy_loss_coef']\n",
    "batch_size = config['hyperparameters']['batch_size']\n",
    "epochs = config['hyperparameters']['num_epochs']\n",
    "lr = config['hyperparameters']['learning_rate']\n",
    "window_size = config['hyperparameters']['window_size']\n",
    "print(f'input_dim: {input_dim}')\n",
    "print(f'gamma: {gamma}')\n",
    "print(f'gae_lambda: {gae_lambda}')\n",
    "print(f'clip_epsilon: {clip_epsilon}')\n",
    "print(f'value_loss_coef: {value_loss_coef}')\n",
    "print(f'entropy_loss_coef: {entropy_loss_coef}')\n",
    "print(f'batch_size: {batch_size}')\n",
    "print(f'epochs: {epochs}')\n",
    "print(f'lr: {lr}')\n",
    "print(f'window_size: {window_size}')\n",
    "print(f'device: {device}')"
   ],
   "id": "56ac7c0ede91ada8",
   "outputs": [],
   "execution_count": null
  },
  {
   "metadata": {},
   "cell_type": "code",
   "source": [
    "data = read_file.read_merged_training_data()\n",
    "data"
   ],
   "id": "2e2d4780ff98beed",
   "outputs": [],
   "execution_count": null
  },
  {
   "metadata": {},
   "cell_type": "code",
   "source": [
    "model = Model(input_dim).to(device)\n",
    "model"
   ],
   "id": "c104e0876f60ea58",
   "outputs": [],
   "execution_count": null
  },
  {
   "metadata": {},
   "cell_type": "code",
   "source": [
    "h_0, c_0 = model.init_hidden_state(batch_size, device)\n",
    "h_0.shape"
   ],
   "id": "f1a15130489d54d8",
   "outputs": [],
   "execution_count": null
  },
  {
   "metadata": {},
   "cell_type": "code",
   "source": [
    "x = []\n",
    "for _ in range(batch_size):\n",
    "    y = []\n",
    "    for i in range(window_size):\n",
    "        y.append(data.loc[data.index[i + _]])\n",
    "    x.append(y)\n",
    "x_t = torch.tensor(x).float().to(device)\n",
    "print(x_t)\n",
    "print(x_t.shape)"
   ],
   "id": "fc57e90b2870ad09",
   "outputs": [],
   "execution_count": null
  },
  {
   "metadata": {},
   "cell_type": "code",
   "source": [
    "action, log_prob, entropy, value, hidden_state_out, buffer = model.get_action_and_value(x_t, (h_0, c_0))\n",
    "# print(f'dist: {dist}')\n",
    "# print(f'value: {value}')\n",
    "# print(f'hidden state: {hidden_state}')\n",
    "buffer.display()"
   ],
   "id": "2de282afc1f266de",
   "outputs": [],
   "execution_count": null
  },
  {
   "metadata": {},
   "cell_type": "code",
   "source": [
    "all_means = mean.detach().cpu().numpy().flatten()\n",
    "all_stds = std.detach().cpu().numpy().flatten()"
   ],
   "id": "2af0c1c3b67958be",
   "outputs": [],
   "execution_count": null
  },
  {
   "metadata": {},
   "cell_type": "code",
   "source": [
    "for _ in range(10):\n",
    "    mea = all_means[_]\n",
    "    st = all_stds[_]\n",
    "    dis = Normal(mea, st)\n",
    "    x_values = torch.linspace(mea - 4 * st, mea + 4 * st, steps=200)\n",
    "    pdf_values = torch.exp(dis.log_prob(x_values))\n",
    "    plt.figure(figsize=(8, 4))\n",
    "    plt.plot(x_values.detach().numpy(), pdf_values.detach().numpy(), label=f'Normal(μ={mea.item():.2f}, σ={st.item():.2f})')\n",
    "    plt.title('Probability Density Function (PDF) of a Normal Distribution')\n",
    "    plt.xlabel('Value')\n",
    "    plt.ylabel('Density')\n",
    "    plt.grid(True)\n",
    "    plt.legend()\n",
    "    plt.show()"
   ],
   "id": "c722188b23747982",
   "outputs": [],
   "execution_count": null
  },
  {
   "metadata": {},
   "cell_type": "code",
   "source": [
    "action, log_prob, entropy, value, hidden_state = model.get_action_and_value(x_t, hidden_state=(h_0, c_0))\n",
    "print(f'action: {action}')\n",
    "print(f'log_prob: {log_prob}')\n",
    "print(f'entropy: {entropy}')\n",
    "print(f'value: {value}')\n",
    "print(f'hidden state: {hidden_state}')"
   ],
   "id": "86759a9d187877e0",
   "outputs": [],
   "execution_count": null
  },
  {
   "metadata": {},
   "cell_type": "code",
   "source": "action[0]",
   "id": "1af34fba2ea9326e",
   "outputs": [],
   "execution_count": null
  },
  {
   "metadata": {},
   "cell_type": "code",
   "source": [
    "action[0][9] = abs(action[0][9])\n",
    "long_action = action[0][action[0] >= 0]\n",
    "print(long_action)\n",
    "short_action = action[0][action[0] < 0]\n",
    "print(short_action)\n",
    "all_action = long_action"
   ],
   "id": "e3890dbce6c99e1",
   "outputs": [],
   "execution_count": null
  },
  {
   "metadata": {},
   "cell_type": "code",
   "source": "",
   "id": "45ceb714c72da79b",
   "outputs": [],
   "execution_count": null
  }
 ],
 "metadata": {
  "kernelspec": {
   "display_name": "Python 3",
   "language": "python",
   "name": "python3"
  },
  "language_info": {
   "codemirror_mode": {
    "name": "ipython",
    "version": 2
   },
   "file_extension": ".py",
   "mimetype": "text/x-python",
   "name": "python",
   "nbconvert_exporter": "python",
   "pygments_lexer": "ipython2",
   "version": "2.7.6"
  }
 },
 "nbformat": 4,
 "nbformat_minor": 5
}
