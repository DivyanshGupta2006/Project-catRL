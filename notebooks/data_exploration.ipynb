{
 "cells": [
  {
   "cell_type": "code",
   "id": "initial_id",
   "metadata": {
    "collapsed": true,
    "ExecuteTime": {
     "end_time": "2025-10-02T09:09:44.539412Z",
     "start_time": "2025-10-02T09:09:44.107407Z"
    }
   },
   "source": [
    "import os\n",
    "import sys\n",
    "import ccxt\n",
    "import pandas as pd\n",
    "from pathlib import Path"
   ],
   "outputs": [],
   "execution_count": 1
  },
  {
   "metadata": {
    "ExecuteTime": {
     "end_time": "2025-10-02T09:09:44.544819Z",
     "start_time": "2025-10-02T09:09:44.543231Z"
    }
   },
   "cell_type": "code",
   "source": [
    "project_root = os.path.abspath(os.path.join(os.getcwd(), '..'))\n",
    "if project_root not in sys.path:\n",
    "    sys.path.append(project_root)"
   ],
   "id": "aa05a8c257ece11f",
   "outputs": [],
   "execution_count": 2
  },
  {
   "metadata": {
    "ExecuteTime": {
     "end_time": "2025-10-02T09:09:44.560703Z",
     "start_time": "2025-10-02T09:09:44.548609Z"
    }
   },
   "cell_type": "code",
   "source": "from src.utils import get_absolute_path, get_config, read_file",
   "id": "6c49c092bf61b439",
   "outputs": [],
   "execution_count": 3
  },
  {
   "metadata": {
    "ExecuteTime": {
     "end_time": "2025-10-02T09:09:44.565581Z",
     "start_time": "2025-10-02T09:09:44.564297Z"
    }
   },
   "cell_type": "code",
   "source": "exchange_id = 'binance'",
   "id": "b0a7ca3d811071e1",
   "outputs": [],
   "execution_count": 4
  },
  {
   "metadata": {
    "ExecuteTime": {
     "end_time": "2025-10-02T09:09:44.574143Z",
     "start_time": "2025-10-02T09:09:44.568289Z"
    }
   },
   "cell_type": "code",
   "source": [
    "try:\n",
    "    exchange = getattr(ccxt, exchange_id)()\n",
    "except AttributeError:\n",
    "    print(f\"Error: The exchange '{exchange_id}' is not supported by ccxt.\")"
   ],
   "id": "16df328726f917e2",
   "outputs": [],
   "execution_count": 5
  },
  {
   "metadata": {
    "ExecuteTime": {
     "end_time": "2025-10-02T09:09:44.578614Z",
     "start_time": "2025-10-02T09:09:44.577323Z"
    }
   },
   "cell_type": "code",
   "source": [
    "start_date = '2024-01-01'\n",
    "end_date = '2025-01-01'"
   ],
   "id": "89df235e6f950645",
   "outputs": [],
   "execution_count": 6
  },
  {
   "metadata": {
    "ExecuteTime": {
     "end_time": "2025-10-02T09:09:44.583487Z",
     "start_time": "2025-10-02T09:09:44.581694Z"
    }
   },
   "cell_type": "code",
   "source": [
    "since = exchange.parse8601(f'{start_date}T00:00:00Z')\n",
    "end_timestamp = exchange.parse8601(f'{end_date}T23:59:59Z')"
   ],
   "id": "4a5b520dbdcfe03f",
   "outputs": [],
   "execution_count": 7
  },
  {
   "metadata": {
    "ExecuteTime": {
     "end_time": "2025-10-02T09:09:44.587768Z",
     "start_time": "2025-10-02T09:09:44.586510Z"
    }
   },
   "cell_type": "code",
   "source": [
    "symbol = 'ETH/USDT'\n",
    "timeframe = '1d'"
   ],
   "id": "c3a85c6a549aa1af",
   "outputs": [],
   "execution_count": 8
  },
  {
   "metadata": {
    "ExecuteTime": {
     "end_time": "2025-10-02T09:09:47.969208Z",
     "start_time": "2025-10-02T09:09:44.589643Z"
    }
   },
   "cell_type": "code",
   "source": [
    "all_ohlcv = []\n",
    "while since < end_timestamp:\n",
    "        try:\n",
    "            ohlcv = exchange.fetch_ohlcv(symbol, timeframe, since)\n",
    "\n",
    "            if not ohlcv:\n",
    "                break\n",
    "\n",
    "            all_ohlcv.extend(ohlcv)\n",
    "\n",
    "            since = ohlcv[-1][0] + 1\n",
    "\n",
    "        except ccxt.NetworkError as e:\n",
    "            print(f\"Network error: {e}. Retrying...\")\n",
    "            continue\n",
    "        except ccxt.ExchangeError as e:\n",
    "            print(f\"Exchange error: {e}\")"
   ],
   "id": "fc9ab521fa821be1",
   "outputs": [],
   "execution_count": 9
  },
  {
   "metadata": {
    "ExecuteTime": {
     "end_time": "2025-10-02T09:09:47.983385Z",
     "start_time": "2025-10-02T09:09:47.980098Z"
    }
   },
   "cell_type": "code",
   "source": "df = pd.DataFrame(all_ohlcv, columns=['timestamp', 'open', 'high', 'low', 'close', 'volume'])",
   "id": "da0095b465f443b2",
   "outputs": [],
   "execution_count": 10
  },
  {
   "metadata": {
    "ExecuteTime": {
     "end_time": "2025-10-02T09:09:48.001169Z",
     "start_time": "2025-10-02T09:09:47.990090Z"
    }
   },
   "cell_type": "code",
   "source": "df",
   "id": "870392a1fb593e73",
   "outputs": [
    {
     "data": {
      "text/plain": [
       "         timestamp     open     high      low    close        volume\n",
       "0    1704067200000  2281.87  2352.37  2265.24  2352.04  2.167027e+05\n",
       "1    1704153600000  2352.05  2431.30  2341.00  2355.34  4.580417e+05\n",
       "2    1704240000000  2355.35  2385.45  2100.00  2209.72  7.987295e+05\n",
       "3    1704326400000  2209.72  2294.69  2201.91  2267.11  4.488441e+05\n",
       "4    1704412800000  2267.11  2277.21  2206.17  2268.78  4.055680e+05\n",
       "..             ...      ...      ...      ...      ...           ...\n",
       "495  1746835200000  2345.04  2600.00  2317.00  2583.23  9.793502e+05\n",
       "496  1746921600000  2583.22  2608.13  2435.51  2514.57  8.315844e+05\n",
       "497  1747008000000  2514.58  2624.00  2406.63  2495.47  1.068681e+06\n",
       "498  1747094400000  2495.48  2738.50  2415.30  2679.71  1.031356e+06\n",
       "499  1747180800000  2679.71  2725.99  2547.26  2609.74  8.300471e+05\n",
       "\n",
       "[500 rows x 6 columns]"
      ],
      "text/html": [
       "<div>\n",
       "<style scoped>\n",
       "    .dataframe tbody tr th:only-of-type {\n",
       "        vertical-align: middle;\n",
       "    }\n",
       "\n",
       "    .dataframe tbody tr th {\n",
       "        vertical-align: top;\n",
       "    }\n",
       "\n",
       "    .dataframe thead th {\n",
       "        text-align: right;\n",
       "    }\n",
       "</style>\n",
       "<table border=\"1\" class=\"dataframe\">\n",
       "  <thead>\n",
       "    <tr style=\"text-align: right;\">\n",
       "      <th></th>\n",
       "      <th>timestamp</th>\n",
       "      <th>open</th>\n",
       "      <th>high</th>\n",
       "      <th>low</th>\n",
       "      <th>close</th>\n",
       "      <th>volume</th>\n",
       "    </tr>\n",
       "  </thead>\n",
       "  <tbody>\n",
       "    <tr>\n",
       "      <th>0</th>\n",
       "      <td>1704067200000</td>\n",
       "      <td>2281.87</td>\n",
       "      <td>2352.37</td>\n",
       "      <td>2265.24</td>\n",
       "      <td>2352.04</td>\n",
       "      <td>2.167027e+05</td>\n",
       "    </tr>\n",
       "    <tr>\n",
       "      <th>1</th>\n",
       "      <td>1704153600000</td>\n",
       "      <td>2352.05</td>\n",
       "      <td>2431.30</td>\n",
       "      <td>2341.00</td>\n",
       "      <td>2355.34</td>\n",
       "      <td>4.580417e+05</td>\n",
       "    </tr>\n",
       "    <tr>\n",
       "      <th>2</th>\n",
       "      <td>1704240000000</td>\n",
       "      <td>2355.35</td>\n",
       "      <td>2385.45</td>\n",
       "      <td>2100.00</td>\n",
       "      <td>2209.72</td>\n",
       "      <td>7.987295e+05</td>\n",
       "    </tr>\n",
       "    <tr>\n",
       "      <th>3</th>\n",
       "      <td>1704326400000</td>\n",
       "      <td>2209.72</td>\n",
       "      <td>2294.69</td>\n",
       "      <td>2201.91</td>\n",
       "      <td>2267.11</td>\n",
       "      <td>4.488441e+05</td>\n",
       "    </tr>\n",
       "    <tr>\n",
       "      <th>4</th>\n",
       "      <td>1704412800000</td>\n",
       "      <td>2267.11</td>\n",
       "      <td>2277.21</td>\n",
       "      <td>2206.17</td>\n",
       "      <td>2268.78</td>\n",
       "      <td>4.055680e+05</td>\n",
       "    </tr>\n",
       "    <tr>\n",
       "      <th>...</th>\n",
       "      <td>...</td>\n",
       "      <td>...</td>\n",
       "      <td>...</td>\n",
       "      <td>...</td>\n",
       "      <td>...</td>\n",
       "      <td>...</td>\n",
       "    </tr>\n",
       "    <tr>\n",
       "      <th>495</th>\n",
       "      <td>1746835200000</td>\n",
       "      <td>2345.04</td>\n",
       "      <td>2600.00</td>\n",
       "      <td>2317.00</td>\n",
       "      <td>2583.23</td>\n",
       "      <td>9.793502e+05</td>\n",
       "    </tr>\n",
       "    <tr>\n",
       "      <th>496</th>\n",
       "      <td>1746921600000</td>\n",
       "      <td>2583.22</td>\n",
       "      <td>2608.13</td>\n",
       "      <td>2435.51</td>\n",
       "      <td>2514.57</td>\n",
       "      <td>8.315844e+05</td>\n",
       "    </tr>\n",
       "    <tr>\n",
       "      <th>497</th>\n",
       "      <td>1747008000000</td>\n",
       "      <td>2514.58</td>\n",
       "      <td>2624.00</td>\n",
       "      <td>2406.63</td>\n",
       "      <td>2495.47</td>\n",
       "      <td>1.068681e+06</td>\n",
       "    </tr>\n",
       "    <tr>\n",
       "      <th>498</th>\n",
       "      <td>1747094400000</td>\n",
       "      <td>2495.48</td>\n",
       "      <td>2738.50</td>\n",
       "      <td>2415.30</td>\n",
       "      <td>2679.71</td>\n",
       "      <td>1.031356e+06</td>\n",
       "    </tr>\n",
       "    <tr>\n",
       "      <th>499</th>\n",
       "      <td>1747180800000</td>\n",
       "      <td>2679.71</td>\n",
       "      <td>2725.99</td>\n",
       "      <td>2547.26</td>\n",
       "      <td>2609.74</td>\n",
       "      <td>8.300471e+05</td>\n",
       "    </tr>\n",
       "  </tbody>\n",
       "</table>\n",
       "<p>500 rows × 6 columns</p>\n",
       "</div>"
      ]
     },
     "execution_count": 11,
     "metadata": {},
     "output_type": "execute_result"
    }
   ],
   "execution_count": 11
  },
  {
   "metadata": {
    "ExecuteTime": {
     "end_time": "2025-10-02T09:09:48.025590Z",
     "start_time": "2025-10-02T09:09:48.019334Z"
    }
   },
   "cell_type": "code",
   "source": [
    "config = get_config.read_yaml()\n",
    "data_dir = get_absolute_path.absolute(config['paths']['data_directory'])\n",
    "print(config['paths']['data_directory'])\n",
    "data_dir"
   ],
   "id": "40a0b5e8765f7e73",
   "outputs": [
    {
     "name": "stdout",
     "output_type": "stream",
     "text": [
      "data\n"
     ]
    },
    {
     "data": {
      "text/plain": [
       "PosixPath('/Users/aayushsharma/Projects/Project-catRL/data')"
      ]
     },
     "execution_count": 12,
     "metadata": {},
     "output_type": "execute_result"
    }
   ],
   "execution_count": 12
  },
  {
   "metadata": {
    "ExecuteTime": {
     "end_time": "2025-10-02T09:09:48.035213Z",
     "start_time": "2025-10-02T09:09:48.032976Z"
    }
   },
   "cell_type": "code",
   "source": [
    "data_path = Path(data_dir)\n",
    "data_path.mkdir(parents=True, exist_ok=True)"
   ],
   "id": "fc4cf3e4b874b80e",
   "outputs": [],
   "execution_count": 13
  },
  {
   "metadata": {
    "ExecuteTime": {
     "end_time": "2025-10-02T09:09:48.051592Z",
     "start_time": "2025-10-02T09:09:48.049866Z"
    }
   },
   "cell_type": "code",
   "source": "symbol = config['data']['tickers']",
   "id": "37aa863e46b60f94",
   "outputs": [],
   "execution_count": 14
  },
  {
   "metadata": {
    "ExecuteTime": {
     "end_time": "2025-10-02T09:09:48.061246Z",
     "start_time": "2025-10-02T09:09:48.058757Z"
    }
   },
   "cell_type": "code",
   "source": "symbol",
   "id": "1f21f78f3f94c94e",
   "outputs": [
    {
     "data": {
      "text/plain": [
       "['ETH/USDT', 'BTC/USDT']"
      ]
     },
     "execution_count": 15,
     "metadata": {},
     "output_type": "execute_result"
    }
   ],
   "execution_count": 15
  },
  {
   "metadata": {
    "ExecuteTime": {
     "end_time": "2025-10-02T09:09:48.076118Z",
     "start_time": "2025-10-02T09:09:48.071522Z"
    }
   },
   "cell_type": "code",
   "source": "df.to_csv(data_dir / 'OHLCV.csv', index=False)",
   "id": "1aa343c70b41feba",
   "outputs": [],
   "execution_count": 16
  },
  {
   "metadata": {
    "ExecuteTime": {
     "end_time": "2025-10-02T09:09:48.084457Z",
     "start_time": "2025-10-02T09:09:48.080930Z"
    }
   },
   "cell_type": "code",
   "source": "data = read_file.read_data('OHLCV')",
   "id": "2e43aa9c72abd5ee",
   "outputs": [
    {
     "name": "stdout",
     "output_type": "stream",
     "text": [
      "Reading Raw Equity data: OHLCV !\n",
      "Successfully read: OHLCV !\n"
     ]
    }
   ],
   "execution_count": 17
  },
  {
   "metadata": {
    "ExecuteTime": {
     "end_time": "2025-10-02T09:09:48.097382Z",
     "start_time": "2025-10-02T09:09:48.090453Z"
    }
   },
   "cell_type": "code",
   "source": "data",
   "id": "9576c483f57188f5",
   "outputs": [
    {
     "data": {
      "text/plain": [
       "         timestamp     open     high      low    close        volume\n",
       "0    1704067200000  2281.87  2352.37  2265.24  2352.04  2.167027e+05\n",
       "1    1704153600000  2352.05  2431.30  2341.00  2355.34  4.580417e+05\n",
       "2    1704240000000  2355.35  2385.45  2100.00  2209.72  7.987295e+05\n",
       "3    1704326400000  2209.72  2294.69  2201.91  2267.11  4.488441e+05\n",
       "4    1704412800000  2267.11  2277.21  2206.17  2268.78  4.055680e+05\n",
       "..             ...      ...      ...      ...      ...           ...\n",
       "495  1746835200000  2345.04  2600.00  2317.00  2583.23  9.793502e+05\n",
       "496  1746921600000  2583.22  2608.13  2435.51  2514.57  8.315844e+05\n",
       "497  1747008000000  2514.58  2624.00  2406.63  2495.47  1.068681e+06\n",
       "498  1747094400000  2495.48  2738.50  2415.30  2679.71  1.031356e+06\n",
       "499  1747180800000  2679.71  2725.99  2547.26  2609.74  8.300471e+05\n",
       "\n",
       "[500 rows x 6 columns]"
      ],
      "text/html": [
       "<div>\n",
       "<style scoped>\n",
       "    .dataframe tbody tr th:only-of-type {\n",
       "        vertical-align: middle;\n",
       "    }\n",
       "\n",
       "    .dataframe tbody tr th {\n",
       "        vertical-align: top;\n",
       "    }\n",
       "\n",
       "    .dataframe thead th {\n",
       "        text-align: right;\n",
       "    }\n",
       "</style>\n",
       "<table border=\"1\" class=\"dataframe\">\n",
       "  <thead>\n",
       "    <tr style=\"text-align: right;\">\n",
       "      <th></th>\n",
       "      <th>timestamp</th>\n",
       "      <th>open</th>\n",
       "      <th>high</th>\n",
       "      <th>low</th>\n",
       "      <th>close</th>\n",
       "      <th>volume</th>\n",
       "    </tr>\n",
       "  </thead>\n",
       "  <tbody>\n",
       "    <tr>\n",
       "      <th>0</th>\n",
       "      <td>1704067200000</td>\n",
       "      <td>2281.87</td>\n",
       "      <td>2352.37</td>\n",
       "      <td>2265.24</td>\n",
       "      <td>2352.04</td>\n",
       "      <td>2.167027e+05</td>\n",
       "    </tr>\n",
       "    <tr>\n",
       "      <th>1</th>\n",
       "      <td>1704153600000</td>\n",
       "      <td>2352.05</td>\n",
       "      <td>2431.30</td>\n",
       "      <td>2341.00</td>\n",
       "      <td>2355.34</td>\n",
       "      <td>4.580417e+05</td>\n",
       "    </tr>\n",
       "    <tr>\n",
       "      <th>2</th>\n",
       "      <td>1704240000000</td>\n",
       "      <td>2355.35</td>\n",
       "      <td>2385.45</td>\n",
       "      <td>2100.00</td>\n",
       "      <td>2209.72</td>\n",
       "      <td>7.987295e+05</td>\n",
       "    </tr>\n",
       "    <tr>\n",
       "      <th>3</th>\n",
       "      <td>1704326400000</td>\n",
       "      <td>2209.72</td>\n",
       "      <td>2294.69</td>\n",
       "      <td>2201.91</td>\n",
       "      <td>2267.11</td>\n",
       "      <td>4.488441e+05</td>\n",
       "    </tr>\n",
       "    <tr>\n",
       "      <th>4</th>\n",
       "      <td>1704412800000</td>\n",
       "      <td>2267.11</td>\n",
       "      <td>2277.21</td>\n",
       "      <td>2206.17</td>\n",
       "      <td>2268.78</td>\n",
       "      <td>4.055680e+05</td>\n",
       "    </tr>\n",
       "    <tr>\n",
       "      <th>...</th>\n",
       "      <td>...</td>\n",
       "      <td>...</td>\n",
       "      <td>...</td>\n",
       "      <td>...</td>\n",
       "      <td>...</td>\n",
       "      <td>...</td>\n",
       "    </tr>\n",
       "    <tr>\n",
       "      <th>495</th>\n",
       "      <td>1746835200000</td>\n",
       "      <td>2345.04</td>\n",
       "      <td>2600.00</td>\n",
       "      <td>2317.00</td>\n",
       "      <td>2583.23</td>\n",
       "      <td>9.793502e+05</td>\n",
       "    </tr>\n",
       "    <tr>\n",
       "      <th>496</th>\n",
       "      <td>1746921600000</td>\n",
       "      <td>2583.22</td>\n",
       "      <td>2608.13</td>\n",
       "      <td>2435.51</td>\n",
       "      <td>2514.57</td>\n",
       "      <td>8.315844e+05</td>\n",
       "    </tr>\n",
       "    <tr>\n",
       "      <th>497</th>\n",
       "      <td>1747008000000</td>\n",
       "      <td>2514.58</td>\n",
       "      <td>2624.00</td>\n",
       "      <td>2406.63</td>\n",
       "      <td>2495.47</td>\n",
       "      <td>1.068681e+06</td>\n",
       "    </tr>\n",
       "    <tr>\n",
       "      <th>498</th>\n",
       "      <td>1747094400000</td>\n",
       "      <td>2495.48</td>\n",
       "      <td>2738.50</td>\n",
       "      <td>2415.30</td>\n",
       "      <td>2679.71</td>\n",
       "      <td>1.031356e+06</td>\n",
       "    </tr>\n",
       "    <tr>\n",
       "      <th>499</th>\n",
       "      <td>1747180800000</td>\n",
       "      <td>2679.71</td>\n",
       "      <td>2725.99</td>\n",
       "      <td>2547.26</td>\n",
       "      <td>2609.74</td>\n",
       "      <td>8.300471e+05</td>\n",
       "    </tr>\n",
       "  </tbody>\n",
       "</table>\n",
       "<p>500 rows × 6 columns</p>\n",
       "</div>"
      ]
     },
     "execution_count": 18,
     "metadata": {},
     "output_type": "execute_result"
    }
   ],
   "execution_count": 18
  },
  {
   "metadata": {
    "ExecuteTime": {
     "end_time": "2025-10-02T09:09:48.108002Z",
     "start_time": "2025-10-02T09:09:48.106705Z"
    }
   },
   "cell_type": "code",
   "source": "",
   "id": "ea20c71d76763614",
   "outputs": [],
   "execution_count": null
  }
 ],
 "metadata": {
  "kernelspec": {
   "display_name": "Python 3",
   "language": "python",
   "name": "python3"
  },
  "language_info": {
   "codemirror_mode": {
    "name": "ipython",
    "version": 2
   },
   "file_extension": ".py",
   "mimetype": "text/x-python",
   "name": "python",
   "nbconvert_exporter": "python",
   "pygments_lexer": "ipython2",
   "version": "2.7.6"
  }
 },
 "nbformat": 4,
 "nbformat_minor": 5
}
