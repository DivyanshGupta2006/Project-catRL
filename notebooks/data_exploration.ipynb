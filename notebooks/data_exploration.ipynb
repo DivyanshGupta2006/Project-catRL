{
 "cells": [
  {
   "cell_type": "code",
   "id": "initial_id",
   "metadata": {
    "collapsed": true
   },
   "source": [
    "import os\n",
    "import sys\n",
    "import ccxt\n",
    "import pandas as pd\n",
    "from pathlib import Path"
   ],
   "outputs": [],
   "execution_count": null
  },
  {
   "metadata": {},
   "cell_type": "code",
   "source": [
    "project_root = os.path.abspath(os.path.join(os.getcwd(), '..'))\n",
    "if project_root not in sys.path:\n",
    "    sys.path.append(project_root)"
   ],
   "id": "aa05a8c257ece11f",
   "outputs": [],
   "execution_count": null
  },
  {
   "metadata": {},
   "cell_type": "code",
   "source": "from src.utils import get_absolute_path, get_config, read_file, check_dir",
   "id": "6c49c092bf61b439",
   "outputs": [],
   "execution_count": null
  },
  {
   "metadata": {},
   "cell_type": "code",
   "source": "exchange_id = 'binance'",
   "id": "b0a7ca3d811071e1",
   "outputs": [],
   "execution_count": null
  },
  {
   "metadata": {},
   "cell_type": "code",
   "source": [
    "try:\n",
    "    exchange = getattr(ccxt, exchange_id)()\n",
    "except AttributeError:\n",
    "    print(f\"Error: The exchange '{exchange_id}' is not supported by ccxt.\")"
   ],
   "id": "16df328726f917e2",
   "outputs": [],
   "execution_count": null
  },
  {
   "metadata": {},
   "cell_type": "code",
   "source": [
    "start_date = '2024-01-01'\n",
    "end_date = '2025-01-01'"
   ],
   "id": "89df235e6f950645",
   "outputs": [],
   "execution_count": null
  },
  {
   "metadata": {},
   "cell_type": "code",
   "source": [
    "since = exchange.parse8601(f'{start_date}T00:00:00Z')\n",
    "end_timestamp = exchange.parse8601(f'{end_date}T23:59:59Z')"
   ],
   "id": "4a5b520dbdcfe03f",
   "outputs": [],
   "execution_count": null
  },
  {
   "metadata": {},
   "cell_type": "code",
   "source": [
    "symbol = 'ETH/USDT'\n",
    "timeframe = '1d'"
   ],
   "id": "c3a85c6a549aa1af",
   "outputs": [],
   "execution_count": null
  },
  {
   "metadata": {},
   "cell_type": "code",
   "source": [
    "all_ohlcv = []\n",
    "while since < end_timestamp:\n",
    "        try:\n",
    "            ohlcv = exchange.fetch_ohlcv(symbol, timeframe, since)\n",
    "\n",
    "            if not ohlcv:\n",
    "                break\n",
    "\n",
    "            all_ohlcv.extend(ohlcv)\n",
    "\n",
    "            since = ohlcv[-1][0] + 1\n",
    "\n",
    "        except ccxt.NetworkError as e:\n",
    "            print(f\"Network error: {e}. Retrying...\")\n",
    "            continue\n",
    "        except ccxt.ExchangeError as e:\n",
    "            print(f\"Exchange error: {e}\")"
   ],
   "id": "fc9ab521fa821be1",
   "outputs": [],
   "execution_count": null
  },
  {
   "metadata": {},
   "cell_type": "code",
   "source": "df = pd.DataFrame(all_ohlcv, columns=['timestamp', 'open', 'high', 'low', 'close', 'volume'])",
   "id": "da0095b465f443b2",
   "outputs": [],
   "execution_count": null
  },
  {
   "metadata": {},
   "cell_type": "code",
   "source": "df",
   "id": "870392a1fb593e73",
   "outputs": [],
   "execution_count": null
  },
  {
   "metadata": {},
   "cell_type": "code",
   "source": [
    "config = get_config.read_yaml()\n",
    "data_dir = get_absolute_path.absolute(config['paths']['data_directory'])\n",
    "print(config['paths']['data_directory'])\n",
    "data_dir"
   ],
   "id": "40a0b5e8765f7e73",
   "outputs": [],
   "execution_count": null
  },
  {
   "metadata": {},
   "cell_type": "code",
   "source": "check_dir.check(data_dir)",
   "id": "fc4cf3e4b874b80e",
   "outputs": [],
   "execution_count": null
  },
  {
   "metadata": {},
   "cell_type": "code",
   "source": "symbol = config['data']['tickers']",
   "id": "37aa863e46b60f94",
   "outputs": [],
   "execution_count": null
  },
  {
   "metadata": {},
   "cell_type": "code",
   "source": "symbol",
   "id": "1f21f78f3f94c94e",
   "outputs": [],
   "execution_count": null
  },
  {
   "metadata": {},
   "cell_type": "code",
   "source": "df.to_csv(data_dir / 'OHLCV.csv', index=False)",
   "id": "1aa343c70b41feba",
   "outputs": [],
   "execution_count": null
  },
  {
   "metadata": {},
   "cell_type": "code",
   "source": "data = read_file.read_data('OHLCV')",
   "id": "2e43aa9c72abd5ee",
   "outputs": [],
   "execution_count": null
  },
  {
   "metadata": {},
   "cell_type": "code",
   "source": "data",
   "id": "9576c483f57188f5",
   "outputs": [],
   "execution_count": null
  },
  {
   "metadata": {},
   "cell_type": "code",
   "source": "",
   "id": "ea20c71d76763614",
   "outputs": [],
   "execution_count": null
  }
 ],
 "metadata": {
  "kernelspec": {
   "display_name": "Python 3",
   "language": "python",
   "name": "python3"
  },
  "language_info": {
   "codemirror_mode": {
    "name": "ipython",
    "version": 2
   },
   "file_extension": ".py",
   "mimetype": "text/x-python",
   "name": "python",
   "nbconvert_exporter": "python",
   "pygments_lexer": "ipython2",
   "version": "2.7.6"
  }
 },
 "nbformat": 4,
 "nbformat_minor": 5
}
