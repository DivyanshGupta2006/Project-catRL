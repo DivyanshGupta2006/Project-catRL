{
 "cells": [
  {
   "cell_type": "code",
   "id": "initial_id",
   "metadata": {
    "collapsed": true
   },
   "source": [
    "import os\n",
    "import sys\n",
    "import matplotlib.pyplot as plt\n",
    "import seaborn as sns\n",
    "import pandas as pd\n",
    "%matplotlib inline\n",
    "sns.set_theme()"
   ],
   "outputs": [],
   "execution_count": null
  },
  {
   "metadata": {},
   "cell_type": "code",
   "source": [
    "project_root = os.path.abspath(os.path.join(os.getcwd(), '..'))\n",
    "if project_root not in sys.path:\n",
    "    sys.path.append(project_root)"
   ],
   "id": "aa05a8c257ece11f",
   "outputs": [],
   "execution_count": null
  },
  {
   "metadata": {},
   "cell_type": "code",
   "source": "from src.utils import get_config, read_file",
   "id": "6c49c092bf61b439",
   "outputs": [],
   "execution_count": null
  },
  {
   "metadata": {},
   "cell_type": "code",
   "source": [
    "config = get_config.read_yaml()\n",
    "symbols = config['data']['symbols']\n",
    "symbols"
   ],
   "id": "4dbc14606ac0e79",
   "outputs": [],
   "execution_count": null
  },
  {
   "metadata": {},
   "cell_type": "code",
   "source": [
    "symbol = symbols[7]\n",
    "symbol"
   ],
   "id": "e2ed2013b5208cf1",
   "outputs": [],
   "execution_count": null
  },
  {
   "metadata": {},
   "cell_type": "code",
   "source": [
    "data = read_file.read_raw_data(symbol)\n",
    "data"
   ],
   "id": "c7ba1ea5ebe62715",
   "outputs": [],
   "execution_count": null
  },
  {
   "metadata": {},
   "cell_type": "code",
   "source": [
    "symbol = symbols[0]\n",
    "symbol"
   ],
   "id": "65f5546fe1044b6c",
   "outputs": [],
   "execution_count": null
  },
  {
   "metadata": {},
   "cell_type": "code",
   "source": [
    "data = read_file.read_raw_data(symbol)\n",
    "data"
   ],
   "id": "7903e19e13a41b00",
   "outputs": [],
   "execution_count": null
  },
  {
   "metadata": {},
   "cell_type": "code",
   "source": [
    "# define a function to plot various datafields\n",
    "def plot_df(df, kind=None):\n",
    "    if kind is None:\n",
    "        df.plot(figsize = (15,8), fontsize=12) # plots the graph with specified plot and font size\n",
    "    else:\n",
    "        df.plot(kind=kind, figsize = (15,8), fontsize=12, bins=100)\n",
    "    plt.legend(fontsize = 12) # shows legends\n",
    "    plt.show() # makes the plot visible"
   ],
   "id": "510d5b30ad8f6bcc",
   "outputs": [],
   "execution_count": null
  },
  {
   "metadata": {},
   "cell_type": "code",
   "source": "plot_df(data['close'])",
   "id": "cf62d0a37be966b4",
   "outputs": [],
   "execution_count": null
  },
  {
   "metadata": {},
   "cell_type": "code",
   "source": "plot_df(data['volume'])",
   "id": "cdf34ded0f0eb54",
   "outputs": [],
   "execution_count": null
  },
  {
   "metadata": {},
   "cell_type": "code",
   "source": [
    "data =  read_file.read_preprocessed_training_data(\"SOL/USDT\")\n",
    "data"
   ],
   "id": "3da58083574250eb",
   "outputs": [],
   "execution_count": null
  },
  {
   "metadata": {},
   "cell_type": "code",
   "outputs": [],
   "execution_count": null,
   "source": "",
   "id": "d8a891913627b93b"
  }
 ],
 "metadata": {
  "kernelspec": {
   "display_name": "Python 3",
   "language": "python",
   "name": "python3"
  },
  "language_info": {
   "codemirror_mode": {
    "name": "ipython",
    "version": 2
   },
   "file_extension": ".py",
   "mimetype": "text/x-python",
   "name": "python",
   "nbconvert_exporter": "python",
   "pygments_lexer": "ipython2",
   "version": "2.7.6"
  }
 },
 "nbformat": 4,
 "nbformat_minor": 5
}
